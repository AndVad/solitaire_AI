{
 "cells": [
  {
   "cell_type": "markdown",
   "metadata": {},
   "source": [
    "# Learning to play Vegas-style Solitaire with AI\n",
    "\n",
    "---\n",
    "\n",
    "Author: Andrew Vadnais\n",
    "\n",
    "Description: Readme in repo"
   ]
  },
  {
   "cell_type": "markdown",
   "metadata": {},
   "source": [
    "First, some import statements:"
   ]
  },
  {
   "cell_type": "code",
   "execution_count": 7,
   "metadata": {
    "collapsed": true
   },
   "outputs": [],
   "source": [
    "import numpy as np"
   ]
  },
  {
   "cell_type": "markdown",
   "metadata": {},
   "source": [
    "## Card\n",
    "\n",
    "In order to save ourselves from messy and repeated code below, we'll create a class for a playing card, which hold the number of the card and an int, and the suit of the card as a string seperately.  This is done as opposed to storing each card as a string, and constantly manipulating the string and converting it from string to int to do comparisions and prints."
   ]
  },
  {
   "cell_type": "code",
   "execution_count": 67,
   "metadata": {
    "collapsed": true
   },
   "outputs": [],
   "source": [
    "class Card:\n",
    "    def __init__(self,number,suit):\n",
    "        self.num = number\n",
    "        self.suit = suit\n",
    "        \n",
    "    def to_str(self):\n",
    "        if(self.num)==1:\n",
    "            return \" A\"+self.suit\n",
    "        elif(self.num)==10:\n",
    "            return str(self.num)+self.suit\n",
    "        elif(self.num)==11:\n",
    "            return \" J\"+self.suit\n",
    "        elif(self.num)==12:\n",
    "            return \" Q\"+self.suit\n",
    "        elif(self.num)==13:\n",
    "            return \" K\"+self.suit\n",
    "        else:\n",
    "            return \" \"+str(self.num)+self.suit\n",
    "    \n",
    "    def __repr__(self):\n",
    "        return self.to_str()"
   ]
  },
  {
   "cell_type": "markdown",
   "metadata": {},
   "source": [
    "## State\n",
    "\n",
    "To uniquely describe a single point in the game of Klondike, we need to know a few things.\n",
    "\n",
    "$\\cdot$ the top card in each of the foundation stacks\n",
    "\n",
    "$\\cdot$ the full sequence in each of the playing stacks\n",
    "\n",
    "$\\cdot$ the drawing stack\n",
    "\n",
    "$\\cdot$ the current location in the drawing stack\n",
    "\n",
    "Therefore, our state class should include all of these things.  In addition, we should include some kind of rating of how good this round is -- by keeping it general, we can investigate the usefulness of certain tactics later on.  We'll also include an extensive representation method in this class, to make any print-outs of the board pretty."
   ]
  },
  {
   "cell_type": "code",
   "execution_count": 68,
   "metadata": {
    "collapsed": true
   },
   "outputs": [],
   "source": [
    "class State:\n",
    "    def __init__(self,foundation,playing,drawing,drawing_location=0):\n",
    "        self.found = foundation\n",
    "        self.play = playing\n",
    "        self.draw = drawing\n",
    "        self.loc = drawing_location\n",
    "        self.known = [x for x in range(7)]\n",
    "        self.run = [x for x in range(7)]\n",
    "        self.obj = None\n",
    "        \n",
    "    def __repr__(self):\n",
    "        printOut = self.found['h'].to_str()+\" \"+self.found['c'].to_str()+\" \"+self.found['d'].to_str()+\" \"+self.found['s'].to_str()+\"\\n\"\n",
    "        \n",
    "        max_len = np.max([len(stack) for stack in self.play])\n",
    "        for row in range(max_len):\n",
    "            row_curr = []\n",
    "            for stack in range(7):\n",
    "                if(len(self.play[stack])>row):\n",
    "                    if(row<self.known[stack]):\n",
    "                        card = \"---\"\n",
    "                    else:\n",
    "                        card = self.play[stack][row].to_str()\n",
    "                    row_curr.append(card)\n",
    "                else:\n",
    "                    row_curr.append(\"   \")\n",
    "                    \n",
    "            printOut += row_curr[0]+\" \" +row_curr[1]+\" \" +row_curr[2]+\" \"\n",
    "            printOut += row_curr[3]+\" \" +row_curr[4]+\" \" +row_curr[5]+\" \"\n",
    "            printOut += row_curr[6]+\"\\n\"\n",
    "            \n",
    "        printOut += \"          \"+self.draw[self.loc].to_str()+\" \"+self.draw[self.loc+1].to_str()+\" \"+self.draw[self.loc+2].to_str()+\"\\n\"\n",
    "        \n",
    "        printOut += \"\\nObjective Value: \"+str(self.obj)\n",
    "\n",
    "        return printOut"
   ]
  },
  {
   "cell_type": "markdown",
   "metadata": {},
   "source": [
    "For the sake of simplicity, we'll define a function here to return a random initial state."
   ]
  },
  {
   "cell_type": "code",
   "execution_count": 69,
   "metadata": {
    "collapsed": true
   },
   "outputs": [],
   "source": [
    "def initial_state(objective_func):\n",
    "    cards = np.array([Card(num, suit) for num in range(1,14) for suit in ['h','c','d','s']])\n",
    "    cards_shuff = [i for i in range(len(cards))]\n",
    "    np.random.shuffle(cards_shuff)\n",
    "    deck_loc = 0\n",
    "    \n",
    "    foundation = {suit:Card(0,suit) for suit in ['h','c','d','s']}\n",
    "    play = [[] for ii in range(7)]\n",
    "    \n",
    "    #dealing under vegas regulations - each new card from the top of the deck\n",
    "    for row in range(7):\n",
    "        for stack in range(row,7):\n",
    "            play[stack].append(cards[cards_shuff[deck_loc]])\n",
    "            deck_loc += 1\n",
    "\n",
    "    drawing = cards[cards_shuff[deck_loc:]]\n",
    "    \n",
    "    state_init = State(foundation=foundation, playing=play, drawing=drawing)\n",
    "    state_init.obj = objective_func(state_init)\n",
    "    \n",
    "    return state_init"
   ]
  },
  {
   "cell_type": "markdown",
   "metadata": {},
   "source": [
    "We're gonna create a simple objective function to test the above initial state creation.  We'll just use the number of cards in our foundation stacks (that is, we expect 0 to be returned)"
   ]
  },
  {
   "cell_type": "code",
   "execution_count": 72,
   "metadata": {},
   "outputs": [
    {
     "name": "stdout",
     "output_type": "stream",
     "text": [
      " 0h  0c  0d  0s\n",
      " 6h --- --- --- --- --- ---\n",
      "     8h --- --- --- --- ---\n",
      "         5h --- --- --- ---\n",
      "             7d --- --- ---\n",
      "                 Kc --- ---\n",
      "                     3h ---\n",
      "                         9s\n",
      "          10c  5c  3s\n",
      "\n",
      "Objective Value: 0 \n",
      "\n",
      " 3h  3c  4d  3s\n",
      " 6h --- --- --- --- --- ---\n",
      "     8h --- --- --- --- ---\n",
      "         5h --- --- --- ---\n",
      "             7d --- --- ---\n",
      "                 Kc --- ---\n",
      "                     3h ---\n",
      "                         9s\n",
      "          10c  5c  3s\n",
      "\n",
      "Objective Value: 13\n"
     ]
    }
   ],
   "source": [
    "def found_obj(curr):\n",
    "    found_val = [stack.num if stack.num!=\"__\" else 0 for stack in curr.found.values()]\n",
    "    return np.sum(found_val)\n",
    "\n",
    "state_test = initial_state(found_obj)\n",
    "print(state_test,\"\\n\")\n",
    "\n",
    "state_test.found = {suit:Card(num,suit) for num,suit in zip([3,3,4,3],['h','c','d','s'])}\n",
    "state_test.obj = found_obj(state_test)\n",
    "print(state_test)"
   ]
  },
  {
   "cell_type": "markdown",
   "metadata": {},
   "source": [
    "## Game\n",
    "\n",
    "Now that we can describe every possible point in a game, we can actually play one!  In order to do this, we'll need to know:\n",
    "\n",
    "$\\cdot$ The current state that the game is in\n",
    "\n",
    "$\\cdot$ Whether we've made any moves in the current pass through the drawing stack\n",
    "\n",
    "$\\cdot$ Whether we've won\n",
    "\n",
    "In addition to knowing the above, we'll also want some way to do the following:\n",
    "\n",
    "$\\cdot$ Find all possible moves from the current state\n",
    "\n",
    "$\\cdot$ Find the best possible move based on our heuristic/loss/objective function\n",
    "\n",
    "$\\cdot$ Change from one state to another, described by some move\n",
    "\n",
    "$\\cdot$ Test whether or not the game is over\n",
    "\n",
    "Moves will be described as a list composed of [location of card, destination of card].  We'll include all of the above in our Game class."
   ]
  },
  {
   "cell_type": "code",
   "execution_count": 79,
   "metadata": {},
   "outputs": [],
   "source": [
    "class Klondike_Game:\n",
    "    def __init__(self, current_state):\n",
    "        self.curr = current_state\n",
    "        self.isWon = False\n",
    "        self.madeMove = False\n",
    "        \n",
    "    def moves(self):\n",
    "        '''\n",
    "        return: a list of all possible moves from the current state \n",
    "        '''\n",
    "        print(self.curr)\n",
    "        color = {'h':'red','d':'red','c':'black','s':'black'}\n",
    "        moves = []\n",
    "        stack_num = [x for x in range(7)]\n",
    "        for stack in stack_num:\n",
    "            #search for moves from the top of a run to another stack\n",
    "            top = self.curr.play[stack][self.curr.run[stack]]\n",
    "            bottom = self.curr.play[stack][-1]\n",
    "            stack_num.remove(stack)\n",
    "            for space in stack_num:\n",
    "                if(self.curr.play[space][-1].num==top.num+1):\n",
    "                    if(color[self.curr.play[space][-1].suit]!=color[top.suit]):\n",
    "                        moves.append(['stacks',stack,space])\n",
    "                        \n",
    "            #search for moves from the bottom of a stack to the foundation stacks\n",
    "            if(bottom.num==self.curr.found[bottom.suit].num+1):\n",
    "                moves.append(['found',stack])\n",
    "                \n",
    "            #search for a move from the top of the draw to a stack\n",
    "            if(bottom.num==self.curr.draw[self.curr.loc].num+1):\n",
    "                if(color[bottom.suit]!=color[self.curr.draw[self.curr.loc].suit]):\n",
    "                    moves.append(['draw',stack])\n",
    "            stack_num.insert(stack,stack)\n",
    "        return moves"
   ]
  },
  {
   "cell_type": "code",
   "execution_count": 84,
   "metadata": {},
   "outputs": [
    {
     "name": "stdout",
     "output_type": "stream",
     "text": [
      " 0h  0c  0d  0s\n",
      " 6s --- --- --- --- --- ---\n",
      "    10d --- --- --- --- ---\n",
      "         Qc --- --- --- ---\n",
      "             3c --- --- ---\n",
      "                 7d --- ---\n",
      "                     4s ---\n",
      "                         Ks\n",
      "           2d  8h  5c\n",
      "\n",
      "Objective Value: 0\n"
     ]
    },
    {
     "data": {
      "text/plain": [
       "[['stacks', 0, 4], ['draw', 3]]"
      ]
     },
     "execution_count": 84,
     "metadata": {},
     "output_type": "execute_result"
    }
   ],
   "source": [
    "Klondike_Game(initial_state(found_obj)).moves()"
   ]
  },
  {
   "cell_type": "code",
   "execution_count": null,
   "metadata": {
    "collapsed": true
   },
   "outputs": [],
   "source": []
  }
 ],
 "metadata": {
  "kernelspec": {
   "display_name": "Python 3",
   "language": "python",
   "name": "python3"
  },
  "language_info": {
   "codemirror_mode": {
    "name": "ipython",
    "version": 3
   },
   "file_extension": ".py",
   "mimetype": "text/x-python",
   "name": "python",
   "nbconvert_exporter": "python",
   "pygments_lexer": "ipython3",
   "version": "3.6.1"
  }
 },
 "nbformat": 4,
 "nbformat_minor": 2
}
