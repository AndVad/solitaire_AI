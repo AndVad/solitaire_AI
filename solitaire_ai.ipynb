{
 "cells": [
  {
   "cell_type": "markdown",
   "metadata": {},
   "source": [
    "# Learning to play Vegas-style Solitaire with AI\n",
    "\n",
    "---\n",
    "\n",
    "Author: Andrew Vadnais\n",
    "\n",
    "Description: Readme in repo"
   ]
  },
  {
   "cell_type": "markdown",
   "metadata": {},
   "source": [
    "First, some import statements:"
   ]
  },
  {
   "cell_type": "code",
   "execution_count": 3,
   "metadata": {
    "collapsed": true
   },
   "outputs": [],
   "source": [
    "import numpy as np"
   ]
  },
  {
   "cell_type": "markdown",
   "metadata": {},
   "source": [
    "## State\n",
    "\n",
    "To uniquely describe a single point in the game of Klondike, we need to know a few things.\n",
    "\n",
    "$\\cdot$ the top card in each of the foundation stacks\n",
    "\n",
    "$\\cdot$ the full sequence in each of the playing stacks\n",
    "\n",
    "$\\cdot$ the drawing stack\n",
    "\n",
    "$\\cdot$ the current location in the drawing stack\n",
    "\n",
    "Therefore, our state class should include all of these things.  In addition, we should include some kind of rating of how good this round is -- by keeping it general, we can investigate the usefulness of certain tactics later on.  We'll also include an extensive representation method in this class, to make any print-outs of the board pretty."
   ]
  },
  {
   "cell_type": "code",
   "execution_count": 155,
   "metadata": {},
   "outputs": [],
   "source": [
    "class State:\n",
    "    def __init__(self,foundation,playing,drawing,drawing_location=0):\n",
    "        self.found = foundation\n",
    "        self.play = playing\n",
    "        self.draw = drawing\n",
    "        self.loc = drawing_location\n",
    "        self.known = [x for x in range(7)]\n",
    "        self.obj = None\n",
    "        \n",
    "    def __repr__(self):\n",
    "        printOut = str(self.found[0])+\"h \"+str(self.found[1])+\"d \"+str(self.found[2])+\"c \"+str(self.found[3])+\"s\\n\"\n",
    "        \n",
    "        max_len = np.max([len(stack) for stack in self.play])\n",
    "        for row in range(max_len):\n",
    "            row_curr = []\n",
    "            for stack in range(7):\n",
    "                if(len(self.play[stack])>row):\n",
    "                    card = str(self.play[stack][row])\n",
    "                    if(row<self.known[stack]):\n",
    "                        card = \"---\"\n",
    "                    else:\n",
    "                        for space in range(3-len(card)):\n",
    "                            card = \" \" + card\n",
    "                    row_curr.append(card)\n",
    "                else:\n",
    "                    row_curr.append(\"   \")\n",
    "                    \n",
    "            printOut += str(row_curr[0])+\" \" +str(row_curr[1])+\" \" +str(row_curr[2])+\" \"\n",
    "            printOut += str(row_curr[3])+\" \" +str(row_curr[4])+\" \" +str(row_curr[5])+\" \"\n",
    "            printOut += str(row_curr[6])+\"\\n\"\n",
    "            \n",
    "        printOut += \"          \"+str(self.draw[self.loc])+\" \"+str(self.draw[self.loc+1])+\" \"+str(self.draw[self.loc+2])+\"\\n\"\n",
    "        \n",
    "        printOut += \"\\nObjective Value: \"+str(self.obj)\n",
    "        return printOut"
   ]
  },
  {
   "cell_type": "markdown",
   "metadata": {},
   "source": [
    "For the sake of simplicity, we'll define a function here to return a random initial state."
   ]
  },
  {
   "cell_type": "code",
   "execution_count": 164,
   "metadata": {
    "collapsed": true
   },
   "outputs": [],
   "source": [
    "def initial_state(objective_func,found=[0,0,0,0]):\n",
    "    cards = np.array([str(num)+suit for num in range(1,14) for suit in ['h','c','d','s']])\n",
    "    cards_shuff = [i for i in range(len(cards))]\n",
    "    np.random.shuffle(cards_shuff)\n",
    "    deck_loc = 0\n",
    "    \n",
    "    foundation = found\n",
    "    play = [[] for ii in range(7)]\n",
    "    \n",
    "    #dealing under vegas regulations - each new card from the top of the deck\n",
    "    for row in range(7):\n",
    "        for stack in range(row,7):\n",
    "            play[stack].append(cards[cards_shuff[deck_loc]])\n",
    "            deck_loc += 1\n",
    "\n",
    "    drawing = cards[cards_shuff[deck_loc:]]\n",
    "    \n",
    "    state_init = State(foundation=foundation, playing=play, drawing=drawing)\n",
    "    state_init.obj = objective_func(state_init)\n",
    "    \n",
    "    return state_init"
   ]
  },
  {
   "cell_type": "markdown",
   "metadata": {},
   "source": [
    "We're gonna create a simple objective function to test the above initial state creation.  We'll just use the number of cards in our foundation stacks (that is, we expect 0 to be returned)"
   ]
  },
  {
   "cell_type": "code",
   "execution_count": 166,
   "metadata": {},
   "outputs": [
    {
     "name": "stdout",
     "output_type": "stream",
     "text": [
      "0h 0d 0c 0s\n",
      " 7d --- --- --- --- --- ---\n",
      "     8s --- --- --- --- ---\n",
      "         3d --- --- --- ---\n",
      "            12s --- --- ---\n",
      "                11h --- ---\n",
      "                     1c ---\n",
      "                        12c\n",
      "          12d 9h 2d\n",
      "\n",
      "Objective Value: 0 \n",
      "\n",
      "3h 3d 4c 3s\n",
      " 1h --- --- --- --- --- ---\n",
      "     1d --- --- --- --- ---\n",
      "        11h --- --- --- ---\n",
      "             2h --- --- ---\n",
      "                10c --- ---\n",
      "                     5c ---\n",
      "                        13s\n",
      "          5d 7s 1c\n",
      "\n",
      "Objective Value: 13\n"
     ]
    }
   ],
   "source": [
    "def found_obj(curr):\n",
    "    return np.sum(curr.found)\n",
    "\n",
    "initial_state_test = initial_state(found_obj)\n",
    "print(initial_state_test,\"\\n\")\n",
    "\n",
    "test_state = initial_state(found_obj,[3,3,4,3])\n",
    "print(test_state)"
   ]
  },
  {
   "cell_type": "markdown",
   "metadata": {},
   "source": [
    "## Game\n",
    "\n",
    "Now that we can "
   ]
  },
  {
   "cell_type": "code",
   "execution_count": null,
   "metadata": {
    "collapsed": true
   },
   "outputs": [],
   "source": []
  }
 ],
 "metadata": {
  "kernelspec": {
   "display_name": "Python 3",
   "language": "python",
   "name": "python3"
  },
  "language_info": {
   "codemirror_mode": {
    "name": "ipython",
    "version": 3
   },
   "file_extension": ".py",
   "mimetype": "text/x-python",
   "name": "python",
   "nbconvert_exporter": "python",
   "pygments_lexer": "ipython3",
   "version": "3.6.1"
  }
 },
 "nbformat": 4,
 "nbformat_minor": 2
}
