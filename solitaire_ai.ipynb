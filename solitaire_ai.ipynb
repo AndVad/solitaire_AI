{
 "cells": [
  {
   "cell_type": "markdown",
   "metadata": {},
   "source": [
    "# Learning to play Vegas-style Solitaire with AI\n",
    "\n",
    "---\n",
    "\n",
    "Author: Andrew Vadnais\n",
    "\n",
    "Description: Readme in repo"
   ]
  },
  {
   "cell_type": "markdown",
   "metadata": {},
   "source": [
    "First, some import statements:"
   ]
  },
  {
   "cell_type": "code",
   "execution_count": 56,
   "metadata": {
    "collapsed": true
   },
   "outputs": [],
   "source": [
    "import numpy as np\n",
    "import copy"
   ]
  },
  {
   "cell_type": "markdown",
   "metadata": {},
   "source": [
    "## Card\n",
    "\n",
    "In order to save ourselves from messy and repeated code below, we'll create a class for a playing card, which hold the number of the card and an int, and the suit of the card as a string seperately.  This is done as opposed to storing each card as a string, and constantly manipulating the string and converting it from string to int to do comparisions and prints."
   ]
  },
  {
   "cell_type": "code",
   "execution_count": 57,
   "metadata": {
    "collapsed": true
   },
   "outputs": [],
   "source": [
    "class Card:\n",
    "    def __init__(self,number,suit):\n",
    "        self.num = number\n",
    "        self.suit = suit\n",
    "        \n",
    "    def to_str(self):\n",
    "        if(self.num)==1:\n",
    "            return \" A\"+self.suit\n",
    "        elif(self.num)==10:\n",
    "            return str(self.num)+self.suit\n",
    "        elif(self.num)==11:\n",
    "            return \" J\"+self.suit\n",
    "        elif(self.num)==12:\n",
    "            return \" Q\"+self.suit\n",
    "        elif(self.num)==13:\n",
    "            return \" K\"+self.suit\n",
    "        else:\n",
    "            return \" \"+str(self.num)+self.suit\n",
    "    \n",
    "    def __repr__(self):\n",
    "        return self.to_str()"
   ]
  },
  {
   "cell_type": "markdown",
   "metadata": {},
   "source": [
    "## State\n",
    "\n",
    "To uniquely describe a single point in the game of Klondike, we need to know a few things.\n",
    "\n",
    "$\\cdot$ the top card in each of the foundation stacks\n",
    "\n",
    "$\\cdot$ the full sequence in each of the playing stacks\n",
    "\n",
    "$\\cdot$ the drawing stack\n",
    "\n",
    "$\\cdot$ the current location in the drawing stack\n",
    "\n",
    "Therefore, our state class should include all of these things.  In addition, we should include some kind of rating of how good this round is -- by keeping it general, we can investigate the usefulness of certain tactics later on.  We'll also include an extensive representation method in this class, to make any print-outs of the board pretty."
   ]
  },
  {
   "cell_type": "code",
   "execution_count": 120,
   "metadata": {},
   "outputs": [],
   "source": [
    "class State:\n",
    "    def __init__(self,foundation,playing,drawing,drawing_location=2,known_ind=[x for x in range(7)],run_ind=[x for x in range(7)],objective_value=None):\n",
    "        self.found = foundation\n",
    "        self.play = playing\n",
    "        self.draw = drawing\n",
    "        self.loc = drawing_location\n",
    "        self.known = known_ind\n",
    "        self.run = run_ind\n",
    "        self.obj = objective_value\n",
    "        \n",
    "    def __repr__(self):\n",
    "        printOut = self.found['h'].to_str()+\" \"+self.found['c'].to_str()+\" \"+self.found['d'].to_str()+\" \"+self.found['s'].to_str()+\"\\n\"\n",
    "        \n",
    "        max_len = np.max([len(stack) for stack in self.play])\n",
    "        for row in range(max_len):\n",
    "            row_curr = []\n",
    "            for stack in range(7):\n",
    "                if(len(self.play[stack])>row):\n",
    "                    if(row<self.known[stack]):\n",
    "                        card = \"---\"\n",
    "                    else:\n",
    "                        card = self.play[stack][row].to_str()\n",
    "                    row_curr.append(card)\n",
    "                elif(len(self.play[stack])==0 and row==0):\n",
    "                    row_curr.append(\"| |\")\n",
    "                else:\n",
    "                    row_curr.append(\"   \")\n",
    "                    \n",
    "            printOut += row_curr[0]+\" \" +row_curr[1]+\" \" +row_curr[2]+\" \"\n",
    "            printOut += row_curr[3]+\" \" +row_curr[4]+\" \" +row_curr[5]+\" \"\n",
    "            printOut += row_curr[6]+\"\\n\"\n",
    "            \n",
    "        printOut += \"          \"+self.draw[self.loc-2].to_str()+\" \"+self.draw[self.loc-1].to_str()+\" \"+self.draw[self.loc].to_str()+\"\\n\"\n",
    "        \n",
    "        printOut += \"\\nObjective Value: \"+str(self.obj)\n",
    "        \n",
    "        \n",
    "\n",
    "        return printOut\n",
    "    \n",
    "    def makeMove(self, move):\n",
    "        '''\n",
    "        move: a dictionary containing the information to go from state to new state\n",
    "        return: the new state\n",
    "        '''\n",
    "        \n",
    "        if(move['moveID']=='found'):\n",
    "            if(move['moveSubID']=='stack'):\n",
    "                card_move = self.play[move['stack_from']].pop()\n",
    "                if(self.run[move['stack_from']]==len(self.play[move['stack_from']])):\n",
    "                    self.run[move['stack_from']]-=1\n",
    "                if(self.known[move['stack_from']]==len(self.play[move['stack_from']])):\n",
    "                    self.known[move['stack_from']]-=1\n",
    "                self.found[card_move.suit] = card_move\n",
    "                #self.madeMove = True\n",
    "                    \n",
    "            elif(move['moveSubID']=='draw'):\n",
    "                card_move = self.draw.pop(self.loc)\n",
    "                self.found[card_move.suit] = card_move\n",
    "                #self.madeMove = True\n",
    "        \n",
    "        elif(move['moveID']=='drawing'):\n",
    "            card_move = self.draw.pop(self.loc)\n",
    "            self.play[move['stack_to']].append(card_move)\n",
    "            self.loc = self.loc-1\n",
    "            #self.madeMove = True\n",
    "            \n",
    "        elif(move['moveID']=='draw'):\n",
    "            if(self.loc==len(self.draw)-1):\n",
    "                self.loc = 2\n",
    "                    \n",
    "            elif(len(self.draw)-self.loc<=3):\n",
    "                self.loc=len(self.draw)-1\n",
    "            \n",
    "            else:\n",
    "                self.loc += 3\n",
    "                \n",
    "        elif(move['moveID']=='stacks'):\n",
    "            stack_loc = len(self.play[move['stack_from']])-1\n",
    "            transfer = []\n",
    "            while(stack_loc>=move['height_from']):\n",
    "                #print(state.play[move['stack_from']])\n",
    "                transfer.insert(0,self.play[move['stack_from']].pop(-1))\n",
    "                stack_loc-=1\n",
    "            if(self.run[move['stack_from']]>=move['height_from']):\n",
    "                self.run[move['stack_from']]-=move['height_from']-1\n",
    "            if(self.known[move['stack_from']]==len(self.play[move['stack_from']])):\n",
    "                self.known[move['stack_from']]-=1\n",
    "            self.play[move['stack_to']] = self.play[move['stack_to']]+transfer\n",
    "            #self.madeMove = True"
   ]
  },
  {
   "cell_type": "markdown",
   "metadata": {},
   "source": [
    "For the sake of simplicity, we'll define a function here to return a random initial state."
   ]
  },
  {
   "cell_type": "code",
   "execution_count": 121,
   "metadata": {
    "collapsed": true
   },
   "outputs": [],
   "source": [
    "def initial_state(objective_func):\n",
    "    cards = np.array([Card(num, suit) for num in range(1,14) for suit in ['h','c','d','s']])\n",
    "    cards_shuff = [i for i in range(len(cards))]\n",
    "    np.random.shuffle(cards_shuff)\n",
    "    deck_loc = 0\n",
    "    \n",
    "    foundation = {suit:Card(0,suit) for suit in ['h','c','d','s']}\n",
    "    play = [[] for ii in range(7)]\n",
    "    \n",
    "    #dealing under vegas regulations - each new card from the top of the deck\n",
    "    for row in range(7):\n",
    "        for stack in range(row,7):\n",
    "            play[stack].append(cards[cards_shuff[deck_loc]])\n",
    "            deck_loc += 1\n",
    "\n",
    "    drawing = list(cards[cards_shuff[deck_loc:]])\n",
    "    \n",
    "    state_init = State(foundation=foundation, playing=play, drawing=drawing)\n",
    "    state_init.obj = objective_func(state_init)\n",
    "    \n",
    "    return state_init"
   ]
  },
  {
   "cell_type": "markdown",
   "metadata": {},
   "source": [
    "We're gonna create a simple objective function to test the above initial state creation.  We'll just use the number of cards in our foundation stacks (that is, we expect 0 to be returned)"
   ]
  },
  {
   "cell_type": "code",
   "execution_count": 122,
   "metadata": {},
   "outputs": [
    {
     "name": "stdout",
     "output_type": "stream",
     "text": [
      " 0h  0c  0d  0s\n",
      " Jh --- --- --- --- --- ---\n",
      "     6c --- --- --- --- ---\n",
      "         8c --- --- --- ---\n",
      "             7c --- --- ---\n",
      "                 Qs --- ---\n",
      "                     As ---\n",
      "                         Js\n",
      "           Qh  3s  5d\n",
      "\n",
      "Objective Value: 0 \n",
      "\n",
      " 3h  3c  4d  3s\n",
      " Jh --- --- --- --- --- ---\n",
      "     6c --- --- --- --- ---\n",
      "         8c --- --- --- ---\n",
      "             7c --- --- ---\n",
      "                 Qs --- ---\n",
      "                     As ---\n",
      "                         Js\n",
      "           Qh  3s  5d\n",
      "\n",
      "Objective Value: 13\n"
     ]
    }
   ],
   "source": [
    "def found_obj(curr):\n",
    "    found_val = [stack.num for stack in curr.found.values()]\n",
    "    return np.sum(found_val)\n",
    "\n",
    "state_test = initial_state(found_obj)\n",
    "print(state_test,\"\\n\")\n",
    "\n",
    "state_test.found = {suit:Card(num,suit) for num,suit in zip([3,3,4,3],['h','c','d','s'])}\n",
    "state_test.obj = found_obj(state_test)\n",
    "print(state_test)"
   ]
  },
  {
   "cell_type": "markdown",
   "metadata": {},
   "source": [
    "## Game\n",
    "\n",
    "Now that we can describe every possible point in a game, we can actually play one!  In order to do this, we'll need to know:\n",
    "\n",
    "$\\cdot$ The current state that the game is in\n",
    "\n",
    "$\\cdot$ Whether we've made any moves in the current pass through the drawing stack\n",
    "\n",
    "$\\cdot$ Whether we've won\n",
    "\n",
    "In addition to knowing the above, we'll also want some way to do the following:\n",
    "\n",
    "$\\cdot$ Find all possible moves from the current state\n",
    "\n",
    "$\\cdot$ Find the best possible move based on our heuristic/loss/objective function\n",
    "\n",
    "$\\cdot$ Change from one state to another, described by some move\n",
    "\n",
    "$\\cdot$ Test whether or not the game is over\n",
    "\n",
    "Moves will be described as a list composed of [location of card, destination of card].  We'll include all of the above in our Game class."
   ]
  },
  {
   "cell_type": "code",
   "execution_count": 123,
   "metadata": {},
   "outputs": [],
   "source": [
    "class Klondike_Game:\n",
    "    def __init__(self, current_state):\n",
    "        self.curr = current_state\n",
    "        self.isOver = False\n",
    "        self.madeMove = False\n",
    "        self.draw=0\n",
    "        \n",
    "    def moves(self):\n",
    "        '''\n",
    "        return: a list of all possible moves from the current state \n",
    "        '''\n",
    "        #print(self.curr)\n",
    "        color = {'h':'red','d':'red','c':'black','s':'black'}\n",
    "        moves = [{'moveID':'draw'}]\n",
    "        stack_num = [x for x in range(7)]\n",
    "        for stack in stack_num:\n",
    "            bottom = self.curr.play[stack][-1]\n",
    "            \n",
    "            stack_num.remove(stack)\n",
    "            \n",
    "            #search for moves from within a run to another stack\n",
    "            run_curr = self.curr.run[stack]\n",
    "            height_curr = len(self.curr.play[stack])-1\n",
    "            while(run_curr<height_curr):\n",
    "                for space in stack_num:\n",
    "                    if(self.curr.play[space][-1].num==self.curr.play[stack][height_curr].num+1):\n",
    "                        if(color[self.curr.play[space][-1].suit]!=color[self.curr.play[stack][run_curr].suit]):\n",
    "                            #identity, stack from, stack to, height in stack to move from\n",
    "                            moves.append({'moveID':'stacks','stack_from':stack,'stack_to':space,'height_from':run_curr})\n",
    "                height_curr-=1\n",
    "                        \n",
    "            #search for moves from the bottom of a stack to the foundation stacks\n",
    "            if(bottom.num==self.curr.found[bottom.suit].num+1):\n",
    "                #identity, sub-identity, stack from\n",
    "                moves.append({'moveID':'found','moveSubID':'stack','stack_from':stack})\n",
    "                \n",
    "            #search for moves from the top of the draw to the foundation\n",
    "            if(self.curr.draw[self.curr.loc].num==self.curr.found[self.curr.draw[self.curr.loc].suit].num+1):\n",
    "                #identity, sub-identity\n",
    "                moves.append({'moveID':'found','moveSubID':'draw'})\n",
    "                \n",
    "            #search for a move from the top of the draw to a stack\n",
    "            if(bottom.num==self.curr.draw[self.curr.loc].num+1):\n",
    "                if(color[bottom.suit]!=color[self.curr.draw[self.curr.loc].suit]):\n",
    "                    #identity, stack to\n",
    "                    moves.append({'moveID':'drawing','stack_to':stack})\n",
    "                    \n",
    "            stack_num.insert(stack,stack)\n",
    "            \n",
    "        return moves\n",
    "\n",
    "    def bestMove(self, heuristic):\n",
    "        '''\n",
    "        heuristic: some function which assigns a numeric value to any state\n",
    "        return: the best move according to heuristic\n",
    "        '''\n",
    "        poss_moves = self.moves()\n",
    "        best_move = (-9999,self.curr)\n",
    "        \n",
    "        for move in poss_moves:\n",
    "            new_state = copy.deepcopy(self.curr)\n",
    "            new_state.makeMove(move)\n",
    "            new_val = heuristic(new_state)\n",
    "            if(new_val>best_move[0]):\n",
    "                best_move = (new_val,new_state)\n",
    "        return best_move"
   ]
  },
  {
   "cell_type": "code",
   "execution_count": 124,
   "metadata": {},
   "outputs": [],
   "source": [
    "test_state = Klondike_Game(initial_state(found_obj))"
   ]
  },
  {
   "cell_type": "code",
   "execution_count": 148,
   "metadata": {},
   "outputs": [
    {
     "name": "stdout",
     "output_type": "stream",
     "text": [
      "\n",
      "Old state:\n",
      "  0h  0c  2d  0s\n",
      " 3h  7c --- --- --- --- ---\n",
      "        --- --- --- --- ---\n",
      "         5h --- --- --- ---\n",
      "             4s --- --- ---\n",
      "                 6d --- ---\n",
      "                     9s ---\n",
      "                         6s\n",
      "          10d  Qs  7h\n",
      "\n",
      "Objective Value: 2\n",
      "\n",
      "New state:\n",
      "  0h  0c  2d  0s\n",
      " 3h  7c --- --- --- --- ---\n",
      "        --- --- --- --- ---\n",
      "         5h --- --- --- ---\n",
      "             4s --- --- ---\n",
      "                 6d --- ---\n",
      "                     9s ---\n",
      "                         6s\n",
      "           Ah  8s  4c\n",
      "\n",
      "Objective Value: 2\n"
     ]
    }
   ],
   "source": [
    "print(\"\\nOld state:\\n\",test_state.curr)\n",
    "\n",
    "best = test_state.bestMove(found_obj)\n",
    "test_state.curr = best[1]\n",
    "test_state.curr.obj = found_obj(test_state.curr)\n",
    "print(\"\\nNew state:\\n\",test_state.curr)"
   ]
  },
  {
   "cell_type": "code",
   "execution_count": null,
   "metadata": {
    "collapsed": true
   },
   "outputs": [],
   "source": []
  },
  {
   "cell_type": "code",
   "execution_count": null,
   "metadata": {
    "collapsed": true
   },
   "outputs": [],
   "source": []
  },
  {
   "cell_type": "code",
   "execution_count": null,
   "metadata": {
    "collapsed": true
   },
   "outputs": [],
   "source": []
  }
 ],
 "metadata": {
  "kernelspec": {
   "display_name": "Python 3",
   "language": "python",
   "name": "python3"
  },
  "language_info": {
   "codemirror_mode": {
    "name": "ipython",
    "version": 3
   },
   "file_extension": ".py",
   "mimetype": "text/x-python",
   "name": "python",
   "nbconvert_exporter": "python",
   "pygments_lexer": "ipython3",
   "version": "3.6.1"
  }
 },
 "nbformat": 4,
 "nbformat_minor": 2
}
